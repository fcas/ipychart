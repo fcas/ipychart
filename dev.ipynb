{
 "cells": [
  {
   "cell_type": "code",
   "execution_count": 19,
   "metadata": {},
   "outputs": [
    {
     "name": "stdout",
     "output_type": "stream",
     "text": [
      "The autoreload extension is already loaded. To reload it, use:\n",
      "  %reload_ext autoreload\n"
     ]
    }
   ],
   "source": [
    "%load_ext autoreload\n",
    "%autoreload 2\n",
    "import sys\n",
    "sys.path.insert(0, \"d:/Users/nicolas.houlier/Documents/Projects/ipychart\")\n",
    "from ipychart import chart"
   ]
  },
  {
   "cell_type": "code",
   "execution_count": 21,
   "metadata": {},
   "outputs": [
    {
     "name": "stdout",
     "output_type": "stream",
     "text": [
      "{'labels': ['test', 'test1', 'test2', 'test3', 'test4', 'test5'], 'datasets': [{'data': [10, 20], 'label': 'coucou', 'backgroundColor': ['rgba(255, 99, 132, 0.2)', 'rgba(255, 99, 132, 0.2)'], 'borderColor': ['rgba(255, 99, 132, 1)', 'rgba(255, 99, 132, 1)'], 'borderWidth': 1}, {'data': [10, 20], 'label': 'coucou2', 'backgroundColor': ['rgba(54, 162, 235, 0.2)', 'rgba(54, 162, 235, 0.2)'], 'borderColor': ['rgba(54, 162, 235, 1)', 'rgba(54, 162, 235, 1)'], 'borderWidth': 1}]}\n"
     ]
    },
    {
     "data": {
      "application/vnd.jupyter.widget-view+json": {
       "model_id": "1e856b53574345a48515ff42890b7702",
       "version_major": 2,
       "version_minor": 0
      },
      "text/plain": [
       "Chart(layout=Layout(align_self='stretch', height='auto'))"
      ]
     },
     "metadata": {},
     "output_type": "display_data"
    }
   ],
   "source": [
    "dataset = {\n",
    "    'labels': ['test', 'test1', 'test2', 'test3', 'test4', 'test5'],\n",
    "    'datasets': [{\n",
    "        'data': [10,20], \n",
    "        'label': 'coucou', \n",
    "        'backgroundColor': ['rgba(255, 99, 132, 0.2)', 'rgba(255, 99, 132, 0.2)']\n",
    "    }, {\n",
    "        'data': [10,20], \n",
    "        'label': 'coucou2',\n",
    "        'backgroundColor': ['rgba(54, 162, 235, 0.2)', 'rgba(54, 162, 235, 0.2)'],\n",
    "        'borderColor': ['rgba(54, 162, 235, 1)', 'rgba(54, 162, 235, 1)']\n",
    "    }]\n",
    "}\n",
    "\n",
    "mychart = chart.Chart(dataset, 'bar')\n",
    "mychart"
   ]
  },
  {
   "cell_type": "code",
   "execution_count": null,
   "metadata": {},
   "outputs": [],
   "source": []
  },
  {
   "cell_type": "code",
   "execution_count": null,
   "metadata": {},
   "outputs": [],
   "source": []
  }
 ],
 "metadata": {
  "kernelspec": {
   "display_name": "dsenv",
   "language": "python",
   "name": "dsenv"
  },
  "language_info": {
   "codemirror_mode": {
    "name": "ipython",
    "version": 3
   },
   "file_extension": ".py",
   "mimetype": "text/x-python",
   "name": "python",
   "nbconvert_exporter": "python",
   "pygments_lexer": "ipython3",
   "version": "3.7.3"
  },
  "widgets": {
   "application/vnd.jupyter.widget-state+json": {
    "state": {
     "6735ad4dce524ec084f855e696081d05": {
      "model_module": "@jupyter-widgets/base",
      "model_module_version": "1.1.0",
      "model_name": "LayoutModel",
      "state": {
       "align_self": "stretch",
       "height": "auto"
      }
     },
     "8c0f60a4d9f14edcb9607ff9f7068ef7": {
      "model_module": "ipychart",
      "model_module_version": "^0.1.0",
      "model_name": "BarChartModel",
      "state": {
       "_model_data": [
        10,
        20,
        30,
        40,
        50
       ],
       "layout": "IPY_MODEL_6735ad4dce524ec084f855e696081d05"
      }
     },
     "954eac1df6084648bfafaee2b570bd88": {
      "model_module": "@jupyter-widgets/base",
      "model_module_version": "1.1.0",
      "model_name": "LayoutModel",
      "state": {
       "align_self": "stretch",
       "height": "auto"
      }
     },
     "98a277dcb92641d2b6a9d2e2a309e7b0": {
      "model_module": "ipychart",
      "model_module_version": "^0.1.0",
      "model_name": "BarChartModel",
      "state": {
       "_model_data": [
        10,
        20,
        30,
        40,
        50,
        80
       ],
       "layout": "IPY_MODEL_954eac1df6084648bfafaee2b570bd88"
      }
     }
    },
    "version_major": 2,
    "version_minor": 0
   }
  }
 },
 "nbformat": 4,
 "nbformat_minor": 2
}
