{
 "cells": [
  {
   "cell_type": "code",
   "execution_count": null,
   "metadata": {},
   "outputs": [],
   "source": [
    "import ipychart as ipyc"
   ]
  },
  {
   "cell_type": "code",
   "execution_count": null,
   "metadata": {},
   "outputs": [],
   "source": [
    "chart = ipyc.BarChart()\n",
    "chart.set_data([10, 20, 30, 40, 50, 80])\n",
    "chart"
   ]
  },
  {
   "cell_type": "code",
   "execution_count": 55,
   "metadata": {},
   "outputs": [],
   "source": [
    "import ipywidgets as widgets\n",
    "from traitlets import Unicode, default, List\n",
    "\n",
    "class DevChart(widgets.DOMWidget):\n",
    "    \"\"\"An example widget.\"\"\"\n",
    "    _view_name = Unicode('DevChartView').tag(sync=True)\n",
    "    _view_module = Unicode('dev').tag(sync=True)\n",
    "    \n",
    "    _label = List([]).tag(sync=True)\n",
    "    _dataset = List([]).tag(sync=True)\n",
    "    \n",
    "    _type = Unicode().tag(sync=True)\n",
    "    \n",
    "    def __init__(self, data, kind):\n",
    "        \n",
    "        super().__init__()\n",
    "        \n",
    "        assert kind in ['line', 'bar', 'horizontalBar', 'radar', 'doughnut', 'polarArea',\n",
    "                        'bubble'], 'Type must be one of : line, bar, radar, doughnut, polarArea, bubble'\n",
    "        assert isinstance(data, (list, dict)), 'Please enter data as dict of list'\n",
    "\n",
    "        if isinstance(data, list):\n",
    "            self._data = data\n",
    "            self._label = [str(i + 1) for i in range(len(self._data))]\n",
    "\n",
    "        else:\n",
    "            assert 'data' in data, 'Please input data using the key \"data\" in the dict'\n",
    "            if 'labels' in data:\n",
    "                assert len(data['labels']) == len(data['data']), 'Please enter one label for each datapoint'\n",
    "                \n",
    "            self._data = data['data']\n",
    "            self._label = data['labels'] if 'labels' in data else [str(i + 1) for i in range(len(self._data))]\n",
    "        \n",
    "        print(self._data)\n",
    "        print(self._label)\n",
    "        self._dataset = self._create_dataset(self._data, self._label)\n",
    "        print(self._dataset)\n",
    "        self._type = kind\n",
    "        \n",
    "    @staticmethod\n",
    "    def _create_dataset(data, label):\n",
    "        \n",
    "        dataset = list() \n",
    "        # todo: handle case of radar, doughnut and polar area\n",
    "        for index, value in enumerate(data):\n",
    "            dataset.append({'label': label[index], 'data': [value]})\n",
    "        \n",
    "        return dataset\n",
    "            \n",
    "\n",
    "    @default('layout')\n",
    "    def _default_layout(self):\n",
    "        return widgets.Layout(height='auto', align_self='stretch')\n",
    "    "
   ]
  },
  {
   "cell_type": "code",
   "execution_count": 60,
   "metadata": {},
   "outputs": [
    {
     "data": {
      "application/javascript": [
       "require.undef('dev');\n",
       "\n",
       "\n",
       "define('dev', [\"@jupyter-widgets/base\", \"./js/node_modules/chart.js/dist/Chart.min.js\"], function(widgets) {\n",
       "    var DevChartView = widgets.DOMWidgetView.extend({\n",
       "    render: function() {\n",
       "        \n",
       "        var dataset = this.model.get(\"_dataset\");\n",
       "        var label = this.model.get(\"_label\");\n",
       "        var type = this.model.get(\"_type\");\n",
       "        \n",
       "        console.log(dataset);\n",
       "        console.log(label);\n",
       "        \n",
       "        let xaxis_display = true;\n",
       "        let yaxis_display = true;\n",
       "        if (['radar', 'doughnut', 'polarArea'].indexOf(type) >= 0) {\n",
       "            xaxis_display = false;\n",
       "            yaxis_display = false;\n",
       "        }\n",
       "\n",
       "        \n",
       "        let canvas = document.createElement(\"canvas\");\n",
       "        var ctx = canvas.getContext('2d');\n",
       "        \n",
       "        new Chart(ctx, {\n",
       "            type: type,\n",
       "            data: {\n",
       "                labels: label,\n",
       "                datasets: dataset\n",
       "            },\n",
       "            options: {\n",
       "                legend: {\n",
       "                    display: true\n",
       "                },\n",
       "                tooltips: {\n",
       "                    callbacks: {\n",
       "                       label: function(tooltipItem) {\n",
       "                              return tooltipItem.yLabel;\n",
       "                       }\n",
       "                    }\n",
       "                },\n",
       "                scales: {\n",
       "                    xAxes: [{\n",
       "                        display: xaxis_display,\n",
       "                        ticks: {\n",
       "                            display: xaxis_display\n",
       "                        }\n",
       "                    }],\n",
       "                    yAxes: [{\n",
       "                        display: yaxis_display,\n",
       "                        ticks: {\n",
       "                            beginAtZero: true,\n",
       "                            display: yaxis_display\n",
       "                        }\n",
       "                    }]\n",
       "                }\n",
       "            }\n",
       "        });\n",
       "        this.el.appendChild(canvas);\n",
       "        }\n",
       "    });\n",
       "    \n",
       "    return {\n",
       "        DevChartView : DevChartView\n",
       "    };\n",
       "});\n"
      ],
      "text/plain": [
       "<IPython.core.display.Javascript object>"
      ]
     },
     "metadata": {},
     "output_type": "display_data"
    }
   ],
   "source": [
    "%%javascript\n",
    "require.undef('dev');\n",
    "\n",
    "\n",
    "define('dev', [\"@jupyter-widgets/base\", \"./js/node_modules/chart.js/dist/Chart.min.js\"], function(widgets) {\n",
    "    var DevChartView = widgets.DOMWidgetView.extend({\n",
    "    render: function() {\n",
    "        \n",
    "        var dataset = this.model.get(\"_dataset\");\n",
    "        var label = this.model.get(\"_label\");\n",
    "        var type = this.model.get(\"_type\");\n",
    "        \n",
    "        console.log(dataset);\n",
    "        console.log(label);\n",
    "        \n",
    "        let xaxis_display = true;\n",
    "        let yaxis_display = true;\n",
    "        if (['radar', 'doughnut', 'polarArea'].indexOf(type) >= 0) {\n",
    "            xaxis_display = false;\n",
    "            yaxis_display = false;\n",
    "        }\n",
    "\n",
    "        \n",
    "        let canvas = document.createElement(\"canvas\");\n",
    "        var ctx = canvas.getContext('2d');\n",
    "        \n",
    "        new Chart(ctx, {\n",
    "            type: type,\n",
    "            data: {\n",
    "                labels: label,\n",
    "                datasets: dataset\n",
    "            },\n",
    "            options: {\n",
    "                legend: {\n",
    "                    display: true\n",
    "                },\n",
    "                tooltips: {\n",
    "                    callbacks: {\n",
    "                       label: function(tooltipItem) {\n",
    "                              return tooltipItem.yLabel;\n",
    "                       }\n",
    "                    }\n",
    "                },\n",
    "                scales: {\n",
    "                    xAxes: [{\n",
    "                        display: xaxis_display,\n",
    "                        ticks: {\n",
    "                            display: xaxis_display\n",
    "                        }\n",
    "                    }],\n",
    "                    yAxes: [{\n",
    "                        display: yaxis_display,\n",
    "                        ticks: {\n",
    "                            beginAtZero: true,\n",
    "                            display: yaxis_display\n",
    "                        }\n",
    "                    }]\n",
    "                }\n",
    "            }\n",
    "        });\n",
    "        this.el.appendChild(canvas);\n",
    "        }\n",
    "    });\n",
    "    \n",
    "    return {\n",
    "        DevChartView : DevChartView\n",
    "    };\n",
    "});"
   ]
  },
  {
   "cell_type": "code",
   "execution_count": 61,
   "metadata": {
    "scrolled": false
   },
   "outputs": [
    {
     "name": "stdout",
     "output_type": "stream",
     "text": [
      "[12, 19, 11, 5, 14, 17]\n",
      "['test', 'test1', 'test2', 'test3', 'test4', 'test5']\n",
      "[{'label': 'test', 'data': [12]}, {'label': 'test1', 'data': [19]}, {'label': 'test2', 'data': [11]}, {'label': 'test3', 'data': [5]}, {'label': 'test4', 'data': [14]}, {'label': 'test5', 'data': [17]}]\n"
     ]
    },
    {
     "data": {
      "application/vnd.jupyter.widget-view+json": {
       "model_id": "3c8c1a3c26c845b4b61d6f7de40d79b4",
       "version_major": 2,
       "version_minor": 0
      },
      "text/plain": [
       "DevChart(layout=Layout(align_self='stretch', height='auto'))"
      ]
     },
     "metadata": {},
     "output_type": "display_data"
    }
   ],
   "source": [
    "data = {'data': [12, 19, 11, 5, 14, 17], 'labels': ['test', 'test1', 'test2', 'test3', 'test4', 'test5']}\n",
    "\n",
    "test_wd = DevChart(data, 'bar')\n",
    "test_wd"
   ]
  },
  {
   "cell_type": "code",
   "execution_count": null,
   "metadata": {},
   "outputs": [],
   "source": []
  },
  {
   "cell_type": "code",
   "execution_count": null,
   "metadata": {},
   "outputs": [],
   "source": []
  }
 ],
 "metadata": {
  "kernelspec": {
   "display_name": "dsenv",
   "language": "python",
   "name": "dsenv"
  },
  "language_info": {
   "codemirror_mode": {
    "name": "ipython",
    "version": 3
   },
   "file_extension": ".py",
   "mimetype": "text/x-python",
   "name": "python",
   "nbconvert_exporter": "python",
   "pygments_lexer": "ipython3",
   "version": "3.7.3"
  },
  "widgets": {
   "application/vnd.jupyter.widget-state+json": {
    "state": {
     "6735ad4dce524ec084f855e696081d05": {
      "model_module": "@jupyter-widgets/base",
      "model_module_version": "1.1.0",
      "model_name": "LayoutModel",
      "state": {
       "align_self": "stretch",
       "height": "auto"
      }
     },
     "8c0f60a4d9f14edcb9607ff9f7068ef7": {
      "model_module": "ipychart",
      "model_module_version": "^0.1.0",
      "model_name": "BarChartModel",
      "state": {
       "_model_data": [
        10,
        20,
        30,
        40,
        50
       ],
       "layout": "IPY_MODEL_6735ad4dce524ec084f855e696081d05"
      }
     },
     "954eac1df6084648bfafaee2b570bd88": {
      "model_module": "@jupyter-widgets/base",
      "model_module_version": "1.1.0",
      "model_name": "LayoutModel",
      "state": {
       "align_self": "stretch",
       "height": "auto"
      }
     },
     "98a277dcb92641d2b6a9d2e2a309e7b0": {
      "model_module": "ipychart",
      "model_module_version": "^0.1.0",
      "model_name": "BarChartModel",
      "state": {
       "_model_data": [
        10,
        20,
        30,
        40,
        50,
        80
       ],
       "layout": "IPY_MODEL_954eac1df6084648bfafaee2b570bd88"
      }
     }
    },
    "version_major": 2,
    "version_minor": 0
   }
  }
 },
 "nbformat": 4,
 "nbformat_minor": 2
}
