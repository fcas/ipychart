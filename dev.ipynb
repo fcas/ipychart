{
 "cells": [
  {
   "cell_type": "code",
   "execution_count": 1,
   "metadata": {
    "scrolled": false
   },
   "outputs": [],
   "source": [
    "%load_ext autoreload\n",
    "%autoreload 2\n",
    "import sys\n",
    "from ipychart import Chart\n",
    "import pandas as pd"
   ]
  },
  {
   "cell_type": "markdown",
   "metadata": {},
   "source": [
    "> Example of Chart.js graphs : https://tobiasahlin.com/blog/chartjs-charts-to-get-you-started/"
   ]
  },
  {
   "cell_type": "markdown",
   "metadata": {},
   "source": [
    "# I. Work with python objects (dict, list)"
   ]
  },
  {
   "cell_type": "markdown",
   "metadata": {},
   "source": [
    "## One dataset charts"
   ]
  },
  {
   "cell_type": "markdown",
   "metadata": {},
   "source": [
    "**1. Bar Chart**"
   ]
  },
  {
   "cell_type": "code",
   "execution_count": 2,
   "metadata": {
    "scrolled": false
   },
   "outputs": [
    {
     "data": {
      "application/vnd.jupyter.widget-view+json": {
       "model_id": "7de94cc0af2e4fb6aaa2bcd6c4134652",
       "version_major": 2,
       "version_minor": 0
      },
      "text/plain": [
       "Chart(layout=Layout(align_self='stretch', height='auto'))"
      ]
     },
     "metadata": {},
     "output_type": "display_data"
    }
   ],
   "source": [
    "dataset = {\n",
    "    'labels': ['Germany','Spain', 'UK', 'Italy', 'Norway', 'France', 'Poland', 'Portugal', 'Sweden', 'Ireland'],\n",
    "    'datasets': [{ \n",
    "            'data': [114,106,106,107,111,133, 109, 109, 108, 107],\n",
    "\n",
    "}]}\n",
    "\n",
    "options = {'title': {'display': True, 'text': 'Bar Chart', 'fontSize': 22},\n",
    "           'scales': {\n",
    "               # check here for customing labels : https://www.chartjs.org/docs/latest/axes/labelling.html\n",
    "               'xAxes': [{'ticks': {'beginAtZero': True},\n",
    "                          'scaleLabel': {'display': True, 'labelString': 'Country', 'fontSize': 15}}],\n",
    "               'yAxes': [{'ticks': {'beginAtZero': True},\n",
    "                          'scaleLabel': {'display': True, 'labelString': 'Count', 'fontSize': 15}}]}}\n",
    "\n",
    "\n",
    "mychart = Chart(dataset, 'bar', options=options)\n",
    "mychart"
   ]
  },
  {
   "cell_type": "code",
   "execution_count": null,
   "metadata": {},
   "outputs": [],
   "source": [
    "from ipywidgets.embed import embed_minimal_html, dependency_state\n",
    "\n",
    "embed_minimal_html('export2.html', views=[mychart], state=dependency_state([mychart]))"
   ]
  },
  {
   "cell_type": "markdown",
   "metadata": {},
   "source": [
    "**2. Line Chart**"
   ]
  },
  {
   "cell_type": "code",
   "execution_count": 6,
   "metadata": {},
   "outputs": [
    {
     "data": {
      "application/vnd.jupyter.widget-view+json": {
       "model_id": "d9d2f2ad18e54bb88685dbde8a8552da",
       "version_major": 2,
       "version_minor": 0
      },
      "text/plain": [
       "Chart(layout=Layout(align_self='stretch', height='auto'))"
      ]
     },
     "metadata": {},
     "output_type": "display_data"
    }
   ],
   "source": [
    "dataset = {\n",
    "    'labels': ['Germany','Spain', 'UK', 'Italy', 'Norway', 'France', 'Poland', 'Portugal', 'Sweden', 'Ireland'],\n",
    "    'datasets': [{ \n",
    "            'data': [114,106,106,107,111,133, 109, 109, 108, 107],\n",
    "            'backgroundColor': 'rgba(75, 192, 192, 0.2)',\n",
    "}]}\n",
    "\n",
    "options = {'title': {'display': True, 'text': 'Line Chart', 'fontSize': 22}}\n",
    "\n",
    "mychart = Chart(dataset, 'line', options=options)\n",
    "mychart"
   ]
  },
  {
   "cell_type": "markdown",
   "metadata": {},
   "source": [
    "**3. Radar Chart**"
   ]
  },
  {
   "cell_type": "code",
   "execution_count": 7,
   "metadata": {},
   "outputs": [
    {
     "data": {
      "application/vnd.jupyter.widget-view+json": {
       "model_id": "54a14d784389473c9cfb1be629ba54d7",
       "version_major": 2,
       "version_minor": 0
      },
      "text/plain": [
       "Chart(layout=Layout(align_self='stretch', height='auto'))"
      ]
     },
     "metadata": {},
     "output_type": "display_data"
    }
   ],
   "source": [
    "dataset = {\n",
    "    'labels': ['Germany','Spain', 'UK', 'Italy', 'Norway', 'France', 'Poland', 'Portugal', 'Sweden', 'Ireland'],\n",
    "    'datasets': [{ \n",
    "            'data': [114,106,106,107,111,133, 109, 109, 108, 107],\n",
    "            'backgroundColor': 'rgba(153, 102, 255, 0.2)',\n",
    "\n",
    "}]}\n",
    "\n",
    "options = {'title': {'display': True, 'text': 'Radar Chart', 'fontSize': 22}}\n",
    "\n",
    "mychart = Chart(dataset, 'radar', options=options)\n",
    "mychart"
   ]
  },
  {
   "cell_type": "markdown",
   "metadata": {},
   "source": [
    "## Multiple datasets charts"
   ]
  },
  {
   "cell_type": "markdown",
   "metadata": {},
   "source": [
    "**1. Bar Chart**"
   ]
  },
  {
   "cell_type": "code",
   "execution_count": 8,
   "metadata": {
    "scrolled": true
   },
   "outputs": [
    {
     "data": {
      "application/vnd.jupyter.widget-view+json": {
       "model_id": "99c54a6096014e1abcff19eda19f453f",
       "version_major": 2,
       "version_minor": 0
      },
      "text/plain": [
       "Chart(layout=Layout(align_self='stretch', height='auto'))"
      ]
     },
     "metadata": {},
     "output_type": "display_data"
    }
   ],
   "source": [
    "dataset = {\n",
    "    'labels': [1500, 1600, 1700, 1750, 1800, 1850, 1900, 1950, 1999, 2050], \n",
    "    'datasets': [\n",
    "        { 'data': [86, 114, 106, 106, 107, 111, 133, 221, 783, 2478], \n",
    "          'label': \"Africa\", }, \n",
    "        { 'data': [282, 350, 411, 502, 635, 809, 947, 1402, 3700, 5267], \n",
    "          'label': \"Asia\"}, \n",
    "        {'data': [168, 170, 178, 190, 203, 276, 408, 547, 675, 734], \n",
    "         'label': \"Europe\"}, \n",
    "        {'data': [40, 20, 10, 16, 24, 38, 74, 167, 508, 784], \n",
    "         'label': \"Latin America\"}, \n",
    "        {'data': [6, 3, 2, 2, 7, 26, 82, 172, 312, 433], \n",
    "         'label': \"North America\"}\n",
    "    ]}\n",
    "\n",
    "options = {'title': {\n",
    "               'display': True, \n",
    "               'text': 'Bar Chart', \n",
    "               'fontSize': 22},\n",
    "           'scales': {\n",
    "               # check here for customing labels : https://www.chartjs.org/docs/latest/axes/labelling.html\n",
    "               'xAxes': [{\n",
    "                   'scaleLabel': {'display': True, 'labelString': 'Year', 'fontSize': 15}}],\n",
    "               'yAxes': [{\n",
    "                   'scaleLabel': {'display': True, 'labelString': 'Count', 'fontSize': 15}}]}\n",
    "          }\n",
    "\n",
    "mychart = Chart(dataset,  'bar',  options=options)\n",
    "mychart"
   ]
  },
  {
   "cell_type": "markdown",
   "metadata": {},
   "source": [
    "**2. Line Chart**"
   ]
  },
  {
   "cell_type": "code",
   "execution_count": 9,
   "metadata": {},
   "outputs": [
    {
     "data": {
      "application/vnd.jupyter.widget-view+json": {
       "model_id": "e8a23c5e283342379fb675db23f296f1",
       "version_major": 2,
       "version_minor": 0
      },
      "text/plain": [
       "Chart(layout=Layout(align_self='stretch', height='auto'))"
      ]
     },
     "metadata": {},
     "output_type": "display_data"
    }
   ],
   "source": [
    "dataset = {\n",
    "    'labels': [1500,1600,1700,1750,1800,1850,1900,1950,1999,2050],\n",
    "    'datasets': [{ \n",
    "        'data': [86,114,106,106,107,111,133,221,783,2478],\n",
    "        'label': \"Africa\",\n",
    "        'fill': False\n",
    "      }, { \n",
    "        'data': [282,350,411,502,635,809,947,1402,3700,5267],\n",
    "        'label': \"Asia\",\n",
    "        'fill': False\n",
    "      }, { \n",
    "        'data': [168,170,178,190,203,276,408,547,675,734],\n",
    "        'label': \"Europe\",\n",
    "        'fill': False\n",
    "      }, { \n",
    "        'data': [40,20,10,16,24,38,74,167,508,784],\n",
    "        'label': \"Latin America\",\n",
    "        'fill': False\n",
    "      }, { \n",
    "        'data': [6,3,2,2,7,26,82,172,312,433],\n",
    "        'label': \"North America\",\n",
    "        'fill': False\n",
    "      }\n",
    "    ]\n",
    "  }\n",
    "        \n",
    "options = {'title': {'display': True, 'text': 'Line Chart with multiple datasets', 'fontSize': 22}, \n",
    "           'legend': {'position': 'bottom'}}\n",
    "\n",
    "mychart = Chart(dataset,  'line',  options=options)\n",
    "mychart"
   ]
  },
  {
   "cell_type": "markdown",
   "metadata": {},
   "source": [
    "**3. Radar Chart**"
   ]
  },
  {
   "cell_type": "code",
   "execution_count": 10,
   "metadata": {},
   "outputs": [
    {
     "data": {
      "application/vnd.jupyter.widget-view+json": {
       "model_id": "5b11a0acce884c2cb7561c0987e4132e",
       "version_major": 2,
       "version_minor": 0
      },
      "text/plain": [
       "Chart(layout=Layout(align_self='stretch', height='auto'))"
      ]
     },
     "metadata": {},
     "output_type": "display_data"
    }
   ],
   "source": [
    "dataset = {\n",
    "    'labels': [1500,1600,1700,1750,1800,1850,1900,1950,1999,2050],\n",
    "    'datasets': [{ \n",
    "        'data': [86,114,106,106,107,111,133,221,121,142],\n",
    "        'label': \"Africa\",\n",
    "        'fill': False\n",
    "      }, { \n",
    "        'data': [99,130,64,100,73,22,88,198,144,64],\n",
    "        'label': \"Asia\",\n",
    "        'fill': False\n",
    "      }, { \n",
    "        'data': [168,170,178,190,203,200,164,100,72,85],\n",
    "        'label': \"Europe\",\n",
    "        'fill': False\n",
    "      }, { \n",
    "        'data': [40,20,10,16,24,38,74,167,80,150],\n",
    "        'label': \"Latin America\",\n",
    "        'fill': False\n",
    "      }, { \n",
    "        'data': [56,95,44,112,215,35,95,74,64,78],\n",
    "        'label': \"North America\",\n",
    "        'fill': False\n",
    "      }\n",
    "    ]\n",
    "  }\n",
    "        \n",
    "options = {'title': {'display': True, 'text': 'Radar Chart with multiple datasets', 'fontSize': 22}, \n",
    "           'legend': {'position': 'right', 'align': 'center'}}\n",
    "\n",
    "mychart = Chart(dataset,  'radar',  options=options)\n",
    "mychart"
   ]
  },
  {
   "cell_type": "markdown",
   "metadata": {},
   "source": [
    "## Mixed types charts"
   ]
  },
  {
   "cell_type": "code",
   "execution_count": 11,
   "metadata": {},
   "outputs": [
    {
     "data": {
      "application/vnd.jupyter.widget-view+json": {
       "model_id": "adf1f9f5a77344beb65908027a8c78cc",
       "version_major": 2,
       "version_minor": 0
      },
      "text/plain": [
       "Chart(layout=Layout(align_self='stretch', height='auto'))"
      ]
     },
     "metadata": {},
     "output_type": "display_data"
    }
   ],
   "source": [
    "dataset = {\n",
    "    'labels': [1500,1600,1700,1750,1800,1850,1900,1950,1999,2050],\n",
    "    'datasets': [{ \n",
    "        'data': [86,114,106,106,107,111,133,221,121,142],\n",
    "        'label': \"Africa\",\n",
    "        'fill': False,\n",
    "        'type': 'line'\n",
    "      }, { \n",
    "        'data': [99,130,64,100,73,22,88,198,144,64],\n",
    "        'label': \"Asia\",\n",
    "        'fill': False\n",
    "      }, { \n",
    "        'data': [168,170,178,190,203,200,164,100,72,85],\n",
    "        'label': \"Europe\",\n",
    "        'type': 'line'\n",
    "      }, { \n",
    "        'data': [40,20,10,16,24,38,74,167,80,150],\n",
    "        'label': \"Latin America\",\n",
    "        'fill': False\n",
    "      }, { \n",
    "        'data': [56,95,44,112,215,35,95,74,64,78],\n",
    "        'label': \"North America\",\n",
    "        'fill': False,\n",
    "        'type': 'horizontalBar'\n",
    "      }\n",
    "    ]\n",
    "  }\n",
    "        \n",
    "options = {'title': {'display': True, 'text': 'Mixed types chart', 'fontSize': 22}, \n",
    "           'legend': {'position': 'right', 'align': 'center'}}\n",
    "\n",
    "mychart = Chart(dataset,  'bar',  options=options)\n",
    "mychart"
   ]
  },
  {
   "cell_type": "markdown",
   "metadata": {},
   "source": [
    "# II. Work with pandas dataframes"
   ]
  },
  {
   "cell_type": "markdown",
   "metadata": {},
   "source": [
    "**1. Simple Chart**"
   ]
  },
  {
   "cell_type": "code",
   "execution_count": 4,
   "metadata": {
    "scrolled": true
   },
   "outputs": [
    {
     "data": {
      "text/html": [
       "<div>\n",
       "<style scoped>\n",
       "    .dataframe tbody tr th:only-of-type {\n",
       "        vertical-align: middle;\n",
       "    }\n",
       "\n",
       "    .dataframe tbody tr th {\n",
       "        vertical-align: top;\n",
       "    }\n",
       "\n",
       "    .dataframe thead th {\n",
       "        text-align: right;\n",
       "    }\n",
       "</style>\n",
       "<table border=\"1\" class=\"dataframe\">\n",
       "  <thead>\n",
       "    <tr style=\"text-align: right;\">\n",
       "      <th></th>\n",
       "      <th>Brand</th>\n",
       "      <th>Price</th>\n",
       "      <th>Year</th>\n",
       "    </tr>\n",
       "  </thead>\n",
       "  <tbody>\n",
       "    <tr>\n",
       "      <th>0</th>\n",
       "      <td>Honda Civic</td>\n",
       "      <td>22000</td>\n",
       "      <td>2015</td>\n",
       "    </tr>\n",
       "    <tr>\n",
       "      <th>1</th>\n",
       "      <td>Toyota Corolla</td>\n",
       "      <td>25000</td>\n",
       "      <td>2013</td>\n",
       "    </tr>\n",
       "    <tr>\n",
       "      <th>2</th>\n",
       "      <td>Ford Focus</td>\n",
       "      <td>27000</td>\n",
       "      <td>2018</td>\n",
       "    </tr>\n",
       "    <tr>\n",
       "      <th>3</th>\n",
       "      <td>Audi A4</td>\n",
       "      <td>35000</td>\n",
       "      <td>2018</td>\n",
       "    </tr>\n",
       "  </tbody>\n",
       "</table>\n",
       "</div>"
      ],
      "text/plain": [
       "            Brand  Price  Year\n",
       "0     Honda Civic  22000  2015\n",
       "1  Toyota Corolla  25000  2013\n",
       "2      Ford Focus  27000  2018\n",
       "3         Audi A4  35000  2018"
      ]
     },
     "execution_count": 4,
     "metadata": {},
     "output_type": "execute_result"
    }
   ],
   "source": [
    "cars = {'Brand': ['Honda Civic', 'Toyota Corolla', 'Ford Focus', 'Audi A4'],\n",
    "        'Price': [22000, 25000, 27000, 35000],\n",
    "        'Year': [2015, 2013, 2018, 2018]}\n",
    " \n",
    "df = pd.DataFrame(cars, columns= ['Brand', 'Price','Year'])\n",
    "df"
   ]
  },
  {
   "cell_type": "code",
   "execution_count": 5,
   "metadata": {
    "scrolled": false
   },
   "outputs": [
    {
     "data": {
      "application/vnd.jupyter.widget-view+json": {
       "model_id": "c52b2c40f6e2460f87024b0181384ec0",
       "version_major": 2,
       "version_minor": 0
      },
      "text/plain": [
       "Chart(layout=Layout(align_self='stretch', height='auto'))"
      ]
     },
     "metadata": {},
     "output_type": "display_data"
    }
   ],
   "source": [
    "dataset = {\n",
    "    'labels': df['Brand'],\n",
    "    'datasets': [{ \n",
    "        'data': df['Price']\n",
    "  }]}\n",
    "\n",
    "mychart = Chart(data=dataset, kind='line')\n",
    "mychart"
   ]
  },
  {
   "cell_type": "markdown",
   "metadata": {},
   "source": [
    "**2. Complex chart: use python dict to create data**"
   ]
  },
  {
   "cell_type": "markdown",
   "metadata": {},
   "source": [
    "# III. Advanced features"
   ]
  },
  {
   "cell_type": "markdown",
   "metadata": {},
   "source": [
    "**1. Callbacks**"
   ]
  },
  {
   "cell_type": "markdown",
   "metadata": {},
   "source": [
    "Example of use of callbacks JS functions to modify a chart: https://www.chartjs.org/docs/latest/axes/labelling.html"
   ]
  },
  {
   "cell_type": "code",
   "execution_count": 12,
   "metadata": {},
   "outputs": [
    {
     "data": {
      "application/vnd.jupyter.widget-view+json": {
       "model_id": "733a68d9885f43a49f1493114ccb1f9f",
       "version_major": 2,
       "version_minor": 0
      },
      "text/plain": [
       "Chart(layout=Layout(align_self='stretch', height='auto'))"
      ]
     },
     "metadata": {},
     "output_type": "display_data"
    }
   ],
   "source": [
    "dataset = {\n",
    "    'labels': ['Germany','Spain', 'UK', 'Italy', 'Norway', 'France', 'Poland', 'Portugal', 'Sweden', 'Ireland'],\n",
    "    'datasets': [{ \n",
    "            'data': [114,106,106,107,111,133, 109, 109, 108, 107],\n",
    "\n",
    "}]}\n",
    "\n",
    "options = {\n",
    "    'tooltips': {\n",
    "        'displayColors': False,\n",
    "        'titleFontSize': 12,\n",
    "        'bodyFontSize': 10,\n",
    "        'enabled': True,\n",
    "        \n",
    "        # You can pass javascript code as you would do with chart js to custom your charts\n",
    "        # Just hover the bar on the chart to see the callback working\n",
    "        \n",
    "        'callbacks': {\n",
    "            'title': '''function(tooltipItem, data) {\n",
    "                return \"I print custom text on my tooltips !\";\n",
    "                };\n",
    "                ''',\n",
    "            'label': '''function(tooltipItem, data) {\n",
    "                return \"I can also change the index: \" + data.labels[tooltipItem.index] + '  ==>  ' + data.datasets[0].data[tooltipItem.index].toString();\n",
    "                };\n",
    "                '''},\n",
    "    }\n",
    "}\n",
    "\n",
    "mychart = Chart(dataset, 'bar', options=options)\n",
    "mychart"
   ]
  }
 ],
 "metadata": {
  "kernelspec": {
   "display_name": "Python 3.8.1 64-bit ('mlenv': conda)",
   "language": "python",
   "name": "python38164bitmlenvcondade1e791990b84817946c0fe1bf1a20e7"
  },
  "language_info": {
   "codemirror_mode": {
    "name": "ipython",
    "version": 3
   },
   "file_extension": ".py",
   "mimetype": "text/x-python",
   "name": "python",
   "nbconvert_exporter": "python",
   "pygments_lexer": "ipython3",
   "version": "3.7.6"
  },
  "widgets": {
   "application/vnd.jupyter.widget-state+json": {
    "state": {
     "6735ad4dce524ec084f855e696081d05": {
      "model_module": "@jupyter-widgets/base",
      "model_module_version": "1.1.0",
      "model_name": "LayoutModel",
      "state": {
       "align_self": "stretch",
       "height": "auto"
      }
     },
     "8c0f60a4d9f14edcb9607ff9f7068ef7": {
      "model_module": "ipychart",
      "model_module_version": "^0.1.0",
      "model_name": "BarChartModel",
      "state": {
       "_model_data": [
        10,
        20,
        30,
        40,
        50
       ],
       "layout": "IPY_MODEL_6735ad4dce524ec084f855e696081d05"
      }
     },
     "954eac1df6084648bfafaee2b570bd88": {
      "model_module": "@jupyter-widgets/base",
      "model_module_version": "1.1.0",
      "model_name": "LayoutModel",
      "state": {
       "align_self": "stretch",
       "height": "auto"
      }
     },
     "98a277dcb92641d2b6a9d2e2a309e7b0": {
      "model_module": "ipychart",
      "model_module_version": "^0.1.0",
      "model_name": "BarChartModel",
      "state": {
       "_model_data": [
        10,
        20,
        30,
        40,
        50,
        80
       ],
       "layout": "IPY_MODEL_954eac1df6084648bfafaee2b570bd88"
      }
     }
    },
    "version_major": 2,
    "version_minor": 0
   }
  }
 },
 "nbformat": 4,
 "nbformat_minor": 2
}
