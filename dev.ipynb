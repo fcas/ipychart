{
 "cells": [
  {
   "cell_type": "code",
   "execution_count": null,
   "metadata": {},
   "outputs": [],
   "source": [
    "import ipychart as ipyc"
   ]
  },
  {
   "cell_type": "code",
   "execution_count": null,
   "metadata": {},
   "outputs": [],
   "source": [
    "chart = ipyc.BarChart()\n",
    "chart.set_data([10, 20, 30, 40, 50, 80])\n",
    "chart"
   ]
  },
  {
   "cell_type": "code",
   "execution_count": 1,
   "metadata": {},
   "outputs": [],
   "source": [
    "import ipywidgets as widgets\n",
    "from traitlets import Unicode, default, List\n",
    "\n",
    "class DevChart(widgets.DOMWidget):\n",
    "    \"\"\"An example widget.\"\"\"\n",
    "    _view_name = Unicode('DevChartView').tag(sync=True)\n",
    "    _view_module = Unicode('dev').tag(sync=True)\n",
    "    \n",
    "    _data = List([]).tag(sync=True)\n",
    "    _label = List([]).tag(sync=True)\n",
    "    \n",
    "    _type = Unicode().tag(sync=True)\n",
    "    \n",
    "    def __init__(self, data, kind, options=None):\n",
    "        \n",
    "        super().__init__()\n",
    "        assert kind in ['line', 'bar', 'radar', 'doughnut', 'polarArea', 'bubble', 'horizontalBar'], 'Type must be one of : line, bar, radar, doughnut, polarArea, bubble'\n",
    "        assert isinstance(data, (list, dict)), 'Please enter data as dict of list'\n",
    "        \n",
    "        if isinstance(data, list):\n",
    "            self._data = data\n",
    "            self._label = [str(i+1) for i in range(len(self._data))]\n",
    "            \n",
    "        else:\n",
    "            self._data = data['data'] if 'data' in data else None\n",
    "            self._label = data['labels'] if 'labels' in data else [str(i+1) for i in range(len(self._data))]\n",
    "        \n",
    "        self._type = kind\n",
    "\n",
    "    @default('layout')\n",
    "    def _default_layout(self):\n",
    "        return widgets.Layout(height='auto', align_self='stretch')\n",
    "    "
   ]
  },
  {
   "cell_type": "code",
   "execution_count": 2,
   "metadata": {},
   "outputs": [
    {
     "data": {
      "application/javascript": [
       "require.undef('dev');\n",
       "\n",
       "\n",
       "define('dev', [\"@jupyter-widgets/base\", \"./js/node_modules/chart.js/dist/Chart.min.js\"], function(widgets) {\n",
       "    var DevChartView = widgets.DOMWidgetView.extend({\n",
       "    render: function() {\n",
       "        \n",
       "        var data = this.model.get(\"_data\");\n",
       "        var label = this.model.get(\"_label\");\n",
       "        var type = this.model.get(\"_type\");\n",
       "        \n",
       "        let canvas = document.createElement(\"canvas\");\n",
       "        var ctx = canvas.getContext('2d');\n",
       "        \n",
       "        new Chart(ctx, {\n",
       "            type: type,\n",
       "            data: {\n",
       "                labels: label,\n",
       "                datasets: [{\n",
       "                    label: '# of Votes',\n",
       "                    data: data,\n",
       "                    backgroundColor: [\n",
       "                        'rgba(255, 99, 132, 0.2)',\n",
       "                        'rgba(54, 162, 235, 0.2)',\n",
       "                        'rgba(255, 206, 86, 0.2)',\n",
       "                        'rgba(75, 192, 192, 0.2)',\n",
       "                        'rgba(153, 102, 255, 0.2)',\n",
       "                        'rgba(255, 159, 64, 0.2)'\n",
       "                    ],\n",
       "                    borderColor: [\n",
       "                        'rgba(255, 99, 132, 1)',\n",
       "                        'rgba(54, 162, 235, 1)',\n",
       "                        'rgba(255, 206, 86, 1)',\n",
       "                        'rgba(75, 192, 192, 1)',\n",
       "                        'rgba(153, 102, 255, 1)',\n",
       "                        'rgba(255, 159, 64, 1)'\n",
       "                    ],\n",
       "                    borderWidth: 1\n",
       "                }]\n",
       "            },\n",
       "            options: {\n",
       "                scales: {\n",
       "                    yAxes: [{\n",
       "                            gridLines: {\n",
       "                              display: true,\n",
       "                          },\n",
       "                        ticks: {\n",
       "                            beginAtZero: true\n",
       "                        }\n",
       "                    }],\n",
       "                    xAxes: [{\n",
       "                          gridLines: {\n",
       "                          display: false,\n",
       "                      },\n",
       "                    }],\n",
       "                }\n",
       "            }\n",
       "        });\n",
       "        this.el.appendChild(canvas);\n",
       "        }\n",
       "    });\n",
       "    \n",
       "    return {\n",
       "        DevChartView : DevChartView\n",
       "    };\n",
       "});\n"
      ],
      "text/plain": [
       "<IPython.core.display.Javascript object>"
      ]
     },
     "metadata": {},
     "output_type": "display_data"
    }
   ],
   "source": [
    "%%javascript\n",
    "require.undef('dev');\n",
    "\n",
    "\n",
    "define('dev', [\"@jupyter-widgets/base\", \"./js/node_modules/chart.js/dist/Chart.min.js\"], function(widgets) {\n",
    "    var DevChartView = widgets.DOMWidgetView.extend({\n",
    "    render: function() {\n",
    "        \n",
    "        var data = this.model.get(\"_data\");\n",
    "        var label = this.model.get(\"_label\");\n",
    "        var type = this.model.get(\"_type\");\n",
    "        \n",
    "        let canvas = document.createElement(\"canvas\");\n",
    "        var ctx = canvas.getContext('2d');\n",
    "        \n",
    "        new Chart(ctx, {\n",
    "            type: type,\n",
    "            data: {\n",
    "                labels: label,\n",
    "                datasets: [{\n",
    "                    label: '# of Votes',\n",
    "                    data: data,\n",
    "                    backgroundColor: [\n",
    "                        'rgba(255, 99, 132, 0.2)',\n",
    "                        'rgba(54, 162, 235, 0.2)',\n",
    "                        'rgba(255, 206, 86, 0.2)',\n",
    "                        'rgba(75, 192, 192, 0.2)',\n",
    "                        'rgba(153, 102, 255, 0.2)',\n",
    "                        'rgba(255, 159, 64, 0.2)'\n",
    "                    ],\n",
    "                    borderColor: [\n",
    "                        'rgba(255, 99, 132, 1)',\n",
    "                        'rgba(54, 162, 235, 1)',\n",
    "                        'rgba(255, 206, 86, 1)',\n",
    "                        'rgba(75, 192, 192, 1)',\n",
    "                        'rgba(153, 102, 255, 1)',\n",
    "                        'rgba(255, 159, 64, 1)'\n",
    "                    ],\n",
    "                    borderWidth: 1\n",
    "                }]\n",
    "            },\n",
    "            options: {\n",
    "                scales: {\n",
    "                    yAxes: [{\n",
    "                            gridLines: {\n",
    "                              display: true,\n",
    "                          },\n",
    "                        ticks: {\n",
    "                            beginAtZero: true\n",
    "                        }\n",
    "                    }],\n",
    "                    xAxes: [{\n",
    "                          gridLines: {\n",
    "                          display: false,\n",
    "                      },\n",
    "                    }],\n",
    "                }\n",
    "            }\n",
    "        });\n",
    "        this.el.appendChild(canvas);\n",
    "        }\n",
    "    });\n",
    "    \n",
    "    return {\n",
    "        DevChartView : DevChartView\n",
    "    };\n",
    "});"
   ]
  },
  {
   "cell_type": "code",
   "execution_count": 3,
   "metadata": {
    "scrolled": false
   },
   "outputs": [
    {
     "data": {
      "application/vnd.jupyter.widget-view+json": {
       "model_id": "257f726596374b4b9d917d81ea8b3c36",
       "version_major": 2,
       "version_minor": 0
      },
      "text/plain": [
       "DevChart(layout=Layout(align_self='stretch', height='auto'))"
      ]
     },
     "metadata": {},
     "output_type": "display_data"
    }
   ],
   "source": [
    "test_wd = DevChart([12, 19, 3, 5, 2, 3], 'horizontalBar')\n",
    "test_wd"
   ]
  }
 ],
 "metadata": {
  "kernelspec": {
   "display_name": "dsenv",
   "language": "python",
   "name": "dsenv"
  },
  "language_info": {
   "codemirror_mode": {
    "name": "ipython",
    "version": 3
   },
   "file_extension": ".py",
   "mimetype": "text/x-python",
   "name": "python",
   "nbconvert_exporter": "python",
   "pygments_lexer": "ipython3",
   "version": "3.7.3"
  },
  "widgets": {
   "application/vnd.jupyter.widget-state+json": {
    "state": {
     "6735ad4dce524ec084f855e696081d05": {
      "model_module": "@jupyter-widgets/base",
      "model_module_version": "1.1.0",
      "model_name": "LayoutModel",
      "state": {
       "align_self": "stretch",
       "height": "auto"
      }
     },
     "8c0f60a4d9f14edcb9607ff9f7068ef7": {
      "model_module": "ipychart",
      "model_module_version": "^0.1.0",
      "model_name": "BarChartModel",
      "state": {
       "_model_data": [
        10,
        20,
        30,
        40,
        50
       ],
       "layout": "IPY_MODEL_6735ad4dce524ec084f855e696081d05"
      }
     },
     "954eac1df6084648bfafaee2b570bd88": {
      "model_module": "@jupyter-widgets/base",
      "model_module_version": "1.1.0",
      "model_name": "LayoutModel",
      "state": {
       "align_self": "stretch",
       "height": "auto"
      }
     },
     "98a277dcb92641d2b6a9d2e2a309e7b0": {
      "model_module": "ipychart",
      "model_module_version": "^0.1.0",
      "model_name": "BarChartModel",
      "state": {
       "_model_data": [
        10,
        20,
        30,
        40,
        50,
        80
       ],
       "layout": "IPY_MODEL_954eac1df6084648bfafaee2b570bd88"
      }
     }
    },
    "version_major": 2,
    "version_minor": 0
   }
  }
 },
 "nbformat": 4,
 "nbformat_minor": 2
}
