{
 "cells": [
  {
   "cell_type": "code",
   "execution_count": 8,
   "metadata": {},
   "outputs": [],
   "source": [
    "import ipychart as ipyc"
   ]
  },
  {
   "cell_type": "code",
   "execution_count": 9,
   "metadata": {},
   "outputs": [
    {
     "data": {
      "application/vnd.jupyter.widget-view+json": {
       "model_id": "2f640ba335f243838730ef9009287b86",
       "version_major": 2,
       "version_minor": 0
      },
      "text/plain": [
       "BarChart(layout=Layout(align_self='stretch', height='auto'))"
      ]
     },
     "metadata": {},
     "output_type": "display_data"
    }
   ],
   "source": [
    "chart = ipyc.BarChart()\n",
    "chart.set_data([10, 20, 30, 40, 50, 80])\n",
    "chart"
   ]
  },
  {
   "cell_type": "code",
   "execution_count": 22,
   "metadata": {},
   "outputs": [],
   "source": [
    "import ipywidgets as widgets\n",
    "from traitlets import Unicode, default, List\n",
    "\n",
    "class DevChart(widgets.DOMWidget):\n",
    "    \"\"\"An example widget.\"\"\"\n",
    "    _view_name = Unicode('DevChartView').tag(sync=True)\n",
    "    _view_module = Unicode('dev').tag(sync=True)\n",
    "    _model_data = List([]).tag(sync=True)\n",
    "    _type = Unicode().tag(sync=True)\n",
    "    \n",
    "    def __init__(self, data, kind):\n",
    "        \n",
    "        super().__init__()\n",
    "        assert kind in ['line', 'bar', 'radar', 'doughnut', 'polarArea', 'bubble'], 'Type must be one of : line, bar, radar, doughnut, polarArea, bubble'\n",
    "        assert isinstance(data, (list, dict)), 'Please enter data as dict of list'\n",
    "        \n",
    "        self._model_data = data\n",
    "        self._type = kind\n",
    "\n",
    "    @default('layout')\n",
    "    def _default_layout(self):\n",
    "        return widgets.Layout(height='auto', align_self='stretch')\n",
    "    "
   ]
  },
  {
   "cell_type": "code",
   "execution_count": 23,
   "metadata": {},
   "outputs": [
    {
     "data": {
      "application/javascript": [
       "require.undef('dev');\n",
       "\n",
       "\n",
       "define('dev', [\"@jupyter-widgets/base\", \"./js/node_modules/chart.js/dist/Chart.min.js\"], function(widgets) {\n",
       "    var DevChartView = widgets.DOMWidgetView.extend({\n",
       "    render: function() {\n",
       "        \n",
       "        var data = this.model.get(\"_model_data\");\n",
       "        var type = this.model.get(\"_type\");\n",
       "        console.log(data)\n",
       "        console.log(type)\n",
       "        \n",
       "        let canvas = document.createElement(\"canvas\");\n",
       "        var ctx = canvas.getContext('2d');\n",
       "        \n",
       "        new Chart(ctx, {\n",
       "            type: type,\n",
       "            data: {\n",
       "                labels: ['Red', 'Blue', 'Yellow', 'Green', 'Purple', 'Orange'],\n",
       "                datasets: [{\n",
       "                    label: '# of Votes',\n",
       "                    data: data,\n",
       "                    backgroundColor: [\n",
       "                        'rgba(255, 99, 132, 0.2)',\n",
       "                        'rgba(54, 162, 235, 0.2)',\n",
       "                        'rgba(255, 206, 86, 0.2)',\n",
       "                        'rgba(75, 192, 192, 0.2)',\n",
       "                        'rgba(153, 102, 255, 0.2)',\n",
       "                        'rgba(255, 159, 64, 0.2)'\n",
       "                    ],\n",
       "                    borderColor: [\n",
       "                        'rgba(255, 99, 132, 1)',\n",
       "                        'rgba(54, 162, 235, 1)',\n",
       "                        'rgba(255, 206, 86, 1)',\n",
       "                        'rgba(75, 192, 192, 1)',\n",
       "                        'rgba(153, 102, 255, 1)',\n",
       "                        'rgba(255, 159, 64, 1)'\n",
       "                    ],\n",
       "                    borderWidth: 1\n",
       "                }]\n",
       "            },\n",
       "            options: {\n",
       "                scales: {\n",
       "                    yAxes: [{\n",
       "                        ticks: {\n",
       "                            beginAtZero: true\n",
       "                        }\n",
       "                    }]\n",
       "                }\n",
       "            }\n",
       "        });\n",
       "        this.el.appendChild(canvas);\n",
       "        }\n",
       "    });\n",
       "    \n",
       "    return {\n",
       "        DevChartView : DevChartView\n",
       "    };\n",
       "});\n"
      ],
      "text/plain": [
       "<IPython.core.display.Javascript object>"
      ]
     },
     "metadata": {},
     "output_type": "display_data"
    }
   ],
   "source": [
    "%%javascript\n",
    "require.undef('dev');\n",
    "\n",
    "\n",
    "define('dev', [\"@jupyter-widgets/base\", \"./js/node_modules/chart.js/dist/Chart.min.js\"], function(widgets) {\n",
    "    var DevChartView = widgets.DOMWidgetView.extend({\n",
    "    render: function() {\n",
    "        \n",
    "        var data = this.model.get(\"_model_data\");\n",
    "        var type = this.model.get(\"_type\");\n",
    "        console.log(data)\n",
    "        console.log(type)\n",
    "        \n",
    "        let canvas = document.createElement(\"canvas\");\n",
    "        var ctx = canvas.getContext('2d');\n",
    "        \n",
    "        new Chart(ctx, {\n",
    "            type: type,\n",
    "            data: {\n",
    "                labels: ['Red', 'Blue', 'Yellow', 'Green', 'Purple', 'Orange'],\n",
    "                datasets: [{\n",
    "                    label: '# of Votes',\n",
    "                    data: data,\n",
    "                    backgroundColor: [\n",
    "                        'rgba(255, 99, 132, 0.2)',\n",
    "                        'rgba(54, 162, 235, 0.2)',\n",
    "                        'rgba(255, 206, 86, 0.2)',\n",
    "                        'rgba(75, 192, 192, 0.2)',\n",
    "                        'rgba(153, 102, 255, 0.2)',\n",
    "                        'rgba(255, 159, 64, 0.2)'\n",
    "                    ],\n",
    "                    borderColor: [\n",
    "                        'rgba(255, 99, 132, 1)',\n",
    "                        'rgba(54, 162, 235, 1)',\n",
    "                        'rgba(255, 206, 86, 1)',\n",
    "                        'rgba(75, 192, 192, 1)',\n",
    "                        'rgba(153, 102, 255, 1)',\n",
    "                        'rgba(255, 159, 64, 1)'\n",
    "                    ],\n",
    "                    borderWidth: 1\n",
    "                }]\n",
    "            },\n",
    "            options: {\n",
    "                scales: {\n",
    "                    yAxes: [{\n",
    "                        ticks: {\n",
    "                            beginAtZero: true\n",
    "                        }\n",
    "                    }]\n",
    "                }\n",
    "            }\n",
    "        });\n",
    "        this.el.appendChild(canvas);\n",
    "        }\n",
    "    });\n",
    "    \n",
    "    return {\n",
    "        DevChartView : DevChartView\n",
    "    };\n",
    "});"
   ]
  },
  {
   "cell_type": "code",
   "execution_count": 29,
   "metadata": {
    "scrolled": false
   },
   "outputs": [
    {
     "data": {
      "application/vnd.jupyter.widget-view+json": {
       "model_id": "ad462bfded4f491fa763b833c9f5d236",
       "version_major": 2,
       "version_minor": 0
      },
      "text/plain": [
       "DevChart(layout=Layout(align_self='stretch', height='auto'))"
      ]
     },
     "metadata": {},
     "output_type": "display_data"
    }
   ],
   "source": [
    "test_wd = DevChart([12, 19, 3, 5, 2, 3], 'polarArea')\n",
    "test_wd"
   ]
  },
  {
   "cell_type": "code",
   "execution_count": null,
   "metadata": {},
   "outputs": [],
   "source": []
  }
 ],
 "metadata": {
  "kernelspec": {
   "display_name": "mlenv",
   "language": "python",
   "name": "mlenv"
  },
  "language_info": {
   "codemirror_mode": {
    "name": "ipython",
    "version": 3
   },
   "file_extension": ".py",
   "mimetype": "text/x-python",
   "name": "python",
   "nbconvert_exporter": "python",
   "pygments_lexer": "ipython3",
   "version": "3.7.3"
  },
  "widgets": {
   "application/vnd.jupyter.widget-state+json": {
    "state": {
     "6735ad4dce524ec084f855e696081d05": {
      "model_module": "@jupyter-widgets/base",
      "model_module_version": "1.1.0",
      "model_name": "LayoutModel",
      "state": {
       "align_self": "stretch",
       "height": "auto"
      }
     },
     "8c0f60a4d9f14edcb9607ff9f7068ef7": {
      "model_module": "ipychart",
      "model_module_version": "^0.1.0",
      "model_name": "BarChartModel",
      "state": {
       "_model_data": [
        10,
        20,
        30,
        40,
        50
       ],
       "layout": "IPY_MODEL_6735ad4dce524ec084f855e696081d05"
      }
     },
     "954eac1df6084648bfafaee2b570bd88": {
      "model_module": "@jupyter-widgets/base",
      "model_module_version": "1.1.0",
      "model_name": "LayoutModel",
      "state": {
       "align_self": "stretch",
       "height": "auto"
      }
     },
     "98a277dcb92641d2b6a9d2e2a309e7b0": {
      "model_module": "ipychart",
      "model_module_version": "^0.1.0",
      "model_name": "BarChartModel",
      "state": {
       "_model_data": [
        10,
        20,
        30,
        40,
        50,
        80
       ],
       "layout": "IPY_MODEL_954eac1df6084648bfafaee2b570bd88"
      }
     }
    },
    "version_major": 2,
    "version_minor": 0
   }
  }
 },
 "nbformat": 4,
 "nbformat_minor": 2
}
