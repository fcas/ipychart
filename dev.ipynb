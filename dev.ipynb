{
 "cells": [
  {
   "cell_type": "code",
   "execution_count": 1,
   "metadata": {
    "scrolled": true
   },
   "outputs": [],
   "source": [
    "%load_ext autoreload\n",
    "%autoreload 2\n",
    "import sys\n",
    "sys.path.insert(0, \"d:/Users/nicolas.houlier/Documents/Projects/ipychart\")\n",
    "from ipychart import chart"
   ]
  },
  {
   "cell_type": "code",
   "execution_count": 2,
   "metadata": {
    "scrolled": true
   },
   "outputs": [
    {
     "name": "stdout",
     "output_type": "stream",
     "text": [
      "{'title': {'display': True, 'text': 'Bar Chart', 'fontSize': 30}, 'scales': [{'yAxes': [{'display': True, 'ticks': {'beginAtZero': True, 'min': 0, 'max': 2000, 'display': True}}]}, {'xAxes': [{'display': True, 'ticks': {'beginAtZero': True, 'min': 0, 'max': 200, 'display': True}}]}], 'beginAtZero': True}\n"
     ]
    },
    {
     "data": {
      "application/vnd.jupyter.widget-view+json": {
       "model_id": "77c5542162b246f4aaac8adcf05eb90d",
       "version_major": 2,
       "version_minor": 0
      },
      "text/plain": [
       "Chart(layout=Layout(align_self='stretch', height='auto'))"
      ]
     },
     "metadata": {},
     "output_type": "display_data"
    }
   ],
   "source": [
    "dataset = {\n",
    "    'labels': [1500,1600,1700,1750,1800,1850,1900,1950,1999,2050],\n",
    "    'datasets': [{ \n",
    "            'data': [86,114,106,106,107,111,133,221,783,2478],\n",
    "            'label': \"Africa\",\n",
    "            'fill': False\n",
    "        },\n",
    "        { \n",
    "            'data': [282,350,411,502,635,809,947,1402,3700,5267],\n",
    "            'label': \"Asia\",\n",
    "            'fill': False\n",
    "        },\n",
    "        { \n",
    "            'data': [168,170,178,190,203,276,408,547,675,734],\n",
    "            'label': \"Europe\",\n",
    "            'fill': False\n",
    "        },\n",
    "        { \n",
    "            'data': [40,20,10,16,24,38,74,167,508,784],\n",
    "            'label': \"Latin America\",\n",
    "            'fill': False\n",
    "        },\n",
    "        { \n",
    "            'data': [6,3,2,2,7,26,82,172,312,433],\n",
    "            'label': \"North America\",\n",
    "            'fill': False\n",
    "        }]\n",
    "}\n",
    "\n",
    "options = {'title': {\n",
    "            'display': True,\n",
    "            'text': 'Bar Chart',\n",
    "            'fontSize': 30,\n",
    "        }}\n",
    "\n",
    "mychart = chart.Chart(dataset, 'bar', options=options)\n",
    "mychart"
   ]
  },
  {
   "cell_type": "code",
   "execution_count": 8,
   "metadata": {
    "scrolled": false
   },
   "outputs": [
    {
     "name": "stdout",
     "output_type": "stream",
     "text": [
      "{'scales': [{'yAxes': [{'display': True, 'ticks': {'beginAtZero': True, 'min': 0, 'max': 2000, 'display': True}}]}, {'xAxes': [{'display': True, 'ticks': {'beginAtZero': True, 'min': 0, 'max': 200, 'display': True}}]}], 'beginAtZero': True}\n"
     ]
    },
    {
     "data": {
      "application/vnd.jupyter.widget-view+json": {
       "model_id": "2d6123a10acd44baac4aafc107e1e797",
       "version_major": 2,
       "version_minor": 0
      },
      "text/plain": [
       "Chart(layout=Layout(align_self='stretch', height='auto'))"
      ]
     },
     "metadata": {},
     "output_type": "display_data"
    }
   ],
   "source": [
    "dataset = {\n",
    "    'labels': [1500,1600,1700,1750,1800,1850,1900,1950,1999,2050],\n",
    "    'datasets': [{ \n",
    "            'data': [114,106,106,107,111,133, 109, 109, 108, 107],\n",
    "        'label': 'Histograme'\n",
    "}]}\n",
    "\n",
    "\n",
    "mychart = chart.Chart(dataset, 'bar')\n",
    "mychart"
   ]
  },
  {
   "cell_type": "code",
   "execution_count": null,
   "metadata": {},
   "outputs": [],
   "source": []
  },
  {
   "cell_type": "code",
   "execution_count": null,
   "metadata": {},
   "outputs": [],
   "source": []
  }
 ],
 "metadata": {
  "kernelspec": {
   "display_name": "dsenv",
   "language": "python",
   "name": "dsenv"
  },
  "language_info": {
   "codemirror_mode": {
    "name": "ipython",
    "version": 3
   },
   "file_extension": ".py",
   "mimetype": "text/x-python",
   "name": "python",
   "nbconvert_exporter": "python",
   "pygments_lexer": "ipython3",
   "version": "3.7.3"
  },
  "widgets": {
   "application/vnd.jupyter.widget-state+json": {
    "state": {
     "6735ad4dce524ec084f855e696081d05": {
      "model_module": "@jupyter-widgets/base",
      "model_module_version": "1.1.0",
      "model_name": "LayoutModel",
      "state": {
       "align_self": "stretch",
       "height": "auto"
      }
     },
     "8c0f60a4d9f14edcb9607ff9f7068ef7": {
      "model_module": "ipychart",
      "model_module_version": "^0.1.0",
      "model_name": "BarChartModel",
      "state": {
       "_model_data": [
        10,
        20,
        30,
        40,
        50
       ],
       "layout": "IPY_MODEL_6735ad4dce524ec084f855e696081d05"
      }
     },
     "954eac1df6084648bfafaee2b570bd88": {
      "model_module": "@jupyter-widgets/base",
      "model_module_version": "1.1.0",
      "model_name": "LayoutModel",
      "state": {
       "align_self": "stretch",
       "height": "auto"
      }
     },
     "98a277dcb92641d2b6a9d2e2a309e7b0": {
      "model_module": "ipychart",
      "model_module_version": "^0.1.0",
      "model_name": "BarChartModel",
      "state": {
       "_model_data": [
        10,
        20,
        30,
        40,
        50,
        80
       ],
       "layout": "IPY_MODEL_954eac1df6084648bfafaee2b570bd88"
      }
     }
    },
    "version_major": 2,
    "version_minor": 0
   }
  }
 },
 "nbformat": 4,
 "nbformat_minor": 2
}
