{
 "cells": [
  {
   "cell_type": "code",
   "execution_count": 135,
   "metadata": {
    "scrolled": false
   },
   "outputs": [],
   "source": [
    "import sys\n",
    "from ipychart import chart\n",
    "import pandas as pd"
   ]
  },
  {
   "cell_type": "markdown",
   "metadata": {},
   "source": [
    "> Example of Chart.js graphs : https://tobiasahlin.com/blog/chartjs-charts-to-get-you-started/"
   ]
  },
  {
   "cell_type": "markdown",
   "metadata": {},
   "source": [
    "# I. Work with python objects (dict, list)"
   ]
  },
  {
   "cell_type": "markdown",
   "metadata": {},
   "source": [
    "## One dataset charts"
   ]
  },
  {
   "cell_type": "markdown",
   "metadata": {},
   "source": [
    "**1. Bar Chart**"
   ]
  },
  {
   "cell_type": "code",
   "execution_count": 136,
   "metadata": {
    "scrolled": true
   },
   "outputs": [
    {
     "data": {
      "application/vnd.jupyter.widget-view+json": {
       "model_id": "50ac15f5bb5346b1ba7124b346b55072",
       "version_major": 2,
       "version_minor": 0
      },
      "text/plain": [
       "Chart(layout=Layout(align_self='stretch', height='auto'))"
      ]
     },
     "metadata": {},
     "output_type": "display_data"
    }
   ],
   "source": [
    "dataset = {\n",
    "    'labels': ['Germany','Spain', 'UK', 'Italy', 'Norway', 'France', 'Poland', 'Portugal', 'Sweden', 'Ireland'],\n",
    "    'datasets': [{ \n",
    "            'data': [114,106,106,107,111,133, 109, 109, 108, 107],\n",
    "\n",
    "}]}\n",
    "\n",
    "options = {'title': {\n",
    "            'display': True, \n",
    "            'text': 'Bar Chart', \n",
    "            'fontSize': 22}}\n",
    "\n",
    "mychart = chart.Chart(dataset, 'bar', options=options)\n",
    "mychart"
   ]
  },
  {
   "cell_type": "markdown",
   "metadata": {},
   "source": [
    "**2. Line Chart**"
   ]
  },
  {
   "cell_type": "code",
   "execution_count": 137,
   "metadata": {},
   "outputs": [
    {
     "data": {
      "application/vnd.jupyter.widget-view+json": {
       "model_id": "fb061030ec234b5c98693874579ac3cf",
       "version_major": 2,
       "version_minor": 0
      },
      "text/plain": [
       "Chart(layout=Layout(align_self='stretch', height='auto'))"
      ]
     },
     "metadata": {},
     "output_type": "display_data"
    }
   ],
   "source": [
    "dataset = {\n",
    "    'labels': ['Germany','Spain', 'UK', 'Italy', 'Norway', 'France', 'Poland', 'Portugal', 'Sweden', 'Ireland'],\n",
    "    'datasets': [{ \n",
    "            'data': [114,106,106,107,111,133, 109, 109, 108, 107],\n",
    "            'backgroundColor': 'rgba(75, 192, 192, 0.2)',\n",
    "}]}\n",
    "\n",
    "options = {'title': {\n",
    "            'display': True, \n",
    "            'text': 'Line Chart', \n",
    "            'fontSize': 22}}\n",
    "\n",
    "mychart = chart.Chart(dataset, 'line', options=options)\n",
    "mychart"
   ]
  },
  {
   "cell_type": "markdown",
   "metadata": {},
   "source": [
    "**3. Radar Chart**"
   ]
  },
  {
   "cell_type": "code",
   "execution_count": 138,
   "metadata": {},
   "outputs": [
    {
     "data": {
      "application/vnd.jupyter.widget-view+json": {
       "model_id": "9a280e6f510448f38c028478d370b1e7",
       "version_major": 2,
       "version_minor": 0
      },
      "text/plain": [
       "Chart(layout=Layout(align_self='stretch', height='auto'))"
      ]
     },
     "metadata": {},
     "output_type": "display_data"
    }
   ],
   "source": [
    "dataset = {\n",
    "    'labels': ['Germany','Spain', 'UK', 'Italy', 'Norway', 'France', 'Poland', 'Portugal', 'Sweden', 'Ireland'],\n",
    "    'datasets': [{ \n",
    "            'data': [114,106,106,107,111,133, 109, 109, 108, 107],\n",
    "            'backgroundColor': 'rgba(153, 102, 255, 0.2)',\n",
    "\n",
    "}]}\n",
    "\n",
    "options = {'title': {\n",
    "            'display': True, \n",
    "            'text': 'Radar Chart', \n",
    "            'fontSize': 22}}\n",
    "\n",
    "mychart = chart.Chart(dataset, 'radar', options=options)\n",
    "mychart"
   ]
  },
  {
   "cell_type": "markdown",
   "metadata": {},
   "source": [
    "**4. Bubble Chart**"
   ]
  },
  {
   "cell_type": "code",
   "execution_count": 139,
   "metadata": {},
   "outputs": [
    {
     "data": {
      "application/vnd.jupyter.widget-view+json": {
       "model_id": "4e6c4af852ce44ff8ce0a1c171e832ee",
       "version_major": 2,
       "version_minor": 0
      },
      "text/plain": [
       "Chart(layout=Layout(align_self='stretch', height='auto'))"
      ]
     },
     "metadata": {},
     "output_type": "display_data"
    }
   ],
   "source": [
    "dataset= {\n",
    "    'labels': [\"Company 1\", \"Company 2\", \"Company 3\", \"Company 4\"],\n",
    "    'datasets': [{\n",
    "                'data': [{'x': 5, 'y': 10, \"r\": 10}, {'x': 15, 'y': 3, 'r': 15}, {'x': 7, 'y': 15, 'r': 30}, {'x': 25, 'y': 5, 'r': 10}],    }]}\n",
    "        \n",
    "\n",
    "options = {'title': {\n",
    "            'display': True, \n",
    "            'text': 'Bubble Chart', \n",
    "            'fontSize': 22}}\n",
    "\n",
    "mychart = chart.Chart(dataset,  'bubble',  options=options)\n",
    "mychart"
   ]
  },
  {
   "cell_type": "markdown",
   "metadata": {},
   "source": [
    "**5. PolarArea, Doughtnut and Pie Charts**"
   ]
  },
  {
   "cell_type": "code",
   "execution_count": 143,
   "metadata": {},
   "outputs": [
    {
     "data": {
      "application/vnd.jupyter.widget-view+json": {
       "model_id": "5be8a99197d64eba8bc1612830110f44",
       "version_major": 2,
       "version_minor": 0
      },
      "text/plain": [
       "Chart(layout=Layout(align_self='stretch', height='auto'))"
      ]
     },
     "metadata": {},
     "output_type": "display_data"
    }
   ],
   "source": [
    "dataset =  {\n",
    "    'labels': ['Germany','Spain', 'UK', 'Italy', 'Norway', 'France', 'Poland', 'Portugal', 'Sweden', 'Ireland'],\n",
    "    'datasets': [{ \n",
    "            'data': [114,106,106,107,111,133, 109, 109, 108, 107],\n",
    "        \n",
    "}]}\n",
    "\n",
    "options = {'title': {\n",
    "            'display': True, \n",
    "            'text': 'Polar Area Chart', \n",
    "            'fontSize': 22}}\n",
    "\n",
    "mychart = chart.Chart(dataset, 'polarArea', options=options) # try also 'doughnut', 'pie'\n",
    "mychart"
   ]
  },
  {
   "cell_type": "markdown",
   "metadata": {},
   "source": [
    "## Multiple datasets charts"
   ]
  },
  {
   "cell_type": "markdown",
   "metadata": {},
   "source": [
    "**1. Bar Chart**"
   ]
  },
  {
   "cell_type": "code",
   "execution_count": 153,
   "metadata": {
    "scrolled": true
   },
   "outputs": [
    {
     "data": {
      "application/vnd.jupyter.widget-view+json": {
       "model_id": "e75431c37a0e4f0f9c5894d0666be95f",
       "version_major": 2,
       "version_minor": 0
      },
      "text/plain": [
       "Chart(layout=Layout(align_self='stretch', height='auto'))"
      ]
     },
     "metadata": {},
     "output_type": "display_data"
    }
   ],
   "source": [
    "dataset = {\n",
    "    'labels': [1500, 1600, 1700, 1750, 1800, 1850, 1900, 1950, 1999, 2050], \n",
    "    'datasets': [\n",
    "        { 'data': [86, 114, 106, 106, 107, 111, 133, 221, 783, 2478], \n",
    "          'label': \"Africa\", }, \n",
    "        { 'data': [282, 350, 411, 502, 635, 809, 947, 1402, 3700, 5267], \n",
    "          'label': \"Asia\"}, \n",
    "        {'data': [168, 170, 178, 190, 203, 276, 408, 547, 675, 734], \n",
    "         'label': \"Europe\"}, \n",
    "        {'data': [40, 20, 10, 16, 24, 38, 74, 167, 508, 784], \n",
    "         'label': \"Latin America\"}, \n",
    "        {'data': [6, 3, 2, 2, 7, 26, 82, 172, 312, 433], \n",
    "         'label': \"North America\"}\n",
    "    ]}\n",
    "\n",
    "options = {'title': {\n",
    "            'display': True, \n",
    "            'text': 'Bar Chart with multiple datasets', \n",
    "            'fontSize': 22}}\n",
    "\n",
    "mychart = chart.Chart(dataset,  'bar',  options=options)\n",
    "mychart"
   ]
  },
  {
   "cell_type": "markdown",
   "metadata": {},
   "source": [
    "**2. Line Chart**"
   ]
  },
  {
   "cell_type": "code",
   "execution_count": 144,
   "metadata": {},
   "outputs": [
    {
     "data": {
      "application/vnd.jupyter.widget-view+json": {
       "model_id": "0092a28210b34beaae5181af776db0fc",
       "version_major": 2,
       "version_minor": 0
      },
      "text/plain": [
       "Chart(layout=Layout(align_self='stretch', height='auto'))"
      ]
     },
     "metadata": {},
     "output_type": "display_data"
    }
   ],
   "source": [
    "dataset = {\n",
    "    'labels': [1500,1600,1700,1750,1800,1850,1900,1950,1999,2050],\n",
    "    'datasets': [{ \n",
    "        'data': [86,114,106,106,107,111,133,221,783,2478],\n",
    "        'label': \"Africa\",\n",
    "        'fill': False\n",
    "      }, { \n",
    "        'data': [282,350,411,502,635,809,947,1402,3700,5267],\n",
    "        'label': \"Asia\",\n",
    "        'fill': False\n",
    "      }, { \n",
    "        'data': [168,170,178,190,203,276,408,547,675,734],\n",
    "        'label': \"Europe\",\n",
    "        'fill': False\n",
    "      }, { \n",
    "        'data': [40,20,10,16,24,38,74,167,508,784],\n",
    "        'label': \"Latin America\",\n",
    "        'fill': False\n",
    "      }, { \n",
    "        'data': [6,3,2,2,7,26,82,172,312,433],\n",
    "        'label': \"North America\",\n",
    "        'fill': False\n",
    "      }\n",
    "    ]\n",
    "  }\n",
    "        \n",
    "options = {'title': {'display': True, 'text': 'Line Chart with multiple datasets', 'fontSize': 22}, \n",
    "           'legend': {'position': 'bottom'}}\n",
    "\n",
    "mychart = chart.Chart(dataset,  'line',  options=options)\n",
    "mychart"
   ]
  },
  {
   "cell_type": "markdown",
   "metadata": {},
   "source": [
    "**3. Radar Chart**"
   ]
  },
  {
   "cell_type": "code",
   "execution_count": 109,
   "metadata": {},
   "outputs": [
    {
     "data": {
      "application/vnd.jupyter.widget-view+json": {
       "model_id": "465599bbaf0a4db09f248a58cddfaa7b",
       "version_major": 2,
       "version_minor": 0
      },
      "text/plain": [
       "Chart(layout=Layout(align_self='stretch', height='auto'))"
      ]
     },
     "metadata": {},
     "output_type": "display_data"
    }
   ],
   "source": [
    "dataset = {\n",
    "    'labels': [1500,1600,1700,1750,1800,1850,1900,1950,1999,2050],\n",
    "    'datasets': [{ \n",
    "        'data': [86,114,106,106,107,111,133,221,121,142],\n",
    "        'label': \"Africa\",\n",
    "        'fill': False\n",
    "      }, { \n",
    "        'data': [99,130,64,100,73,22,88,198,144,64],\n",
    "        'label': \"Asia\",\n",
    "        'fill': False\n",
    "      }, { \n",
    "        'data': [168,170,178,190,203,200,164,100,72,85],\n",
    "        'label': \"Europe\",\n",
    "        'fill': False\n",
    "      }, { \n",
    "        'data': [40,20,10,16,24,38,74,167,80,150],\n",
    "        'label': \"Latin America\",\n",
    "        'fill': False\n",
    "      }, { \n",
    "        'data': [56,95,44,112,215,35,95,74,64,78],\n",
    "        'label': \"North America\",\n",
    "        'fill': False\n",
    "      }\n",
    "    ]\n",
    "  }\n",
    "        \n",
    "options = {'title': {'display': True, 'text': 'Radar Chart with multiple datasets', 'fontSize': 22}, \n",
    "           'legend': {'position': 'right', 'align': 'center'}}\n",
    "\n",
    "mychart = chart.Chart(dataset,  'radar',  options=options)\n",
    "mychart"
   ]
  },
  {
   "cell_type": "markdown",
   "metadata": {},
   "source": [
    "## Mixed types charts"
   ]
  },
  {
   "cell_type": "code",
   "execution_count": 158,
   "metadata": {},
   "outputs": [
    {
     "data": {
      "application/vnd.jupyter.widget-view+json": {
       "model_id": "121cbaae60bf44cfb5708672625875ca",
       "version_major": 2,
       "version_minor": 0
      },
      "text/plain": [
       "Chart(layout=Layout(align_self='stretch', height='auto'))"
      ]
     },
     "metadata": {},
     "output_type": "display_data"
    }
   ],
   "source": [
    "dataset = {\n",
    "    'labels': [1500,1600,1700,1750,1800,1850,1900,1950,1999,2050],\n",
    "    'datasets': [{ \n",
    "        'data': [86,114,106,106,107,111,133,221,121,142],\n",
    "        'label': \"Africa\",\n",
    "        'fill': False,\n",
    "        'type': 'line'\n",
    "      }, { \n",
    "        'data': [99,130,64,100,73,22,88,198,144,64],\n",
    "        'label': \"Asia\",\n",
    "        'fill': False\n",
    "      }, { \n",
    "        'data': [168,170,178,190,203,200,164,100,72,85],\n",
    "        'label': \"Europe\",\n",
    "        'type': 'line'\n",
    "      }, { \n",
    "        'data': [40,20,10,16,24,38,74,167,80,150],\n",
    "        'label': \"Latin America\",\n",
    "        'fill': False\n",
    "      }, { \n",
    "        'data': [56,95,44,112,215,35,95,74,64,78],\n",
    "        'label': \"North America\",\n",
    "        'fill': False,\n",
    "        'type': 'horizontalBar'\n",
    "      }\n",
    "    ]\n",
    "  }\n",
    "        \n",
    "options = {'title': {'display': True, 'text': 'Mixed types chart', 'fontSize': 22}, \n",
    "           'legend': {'position': 'right', 'align': 'center'}}\n",
    "\n",
    "mychart = chart.Chart(dataset,  'bar',  options=options)\n",
    "mychart"
   ]
  },
  {
   "cell_type": "markdown",
   "metadata": {},
   "source": [
    "# II. Work with pandas dataframes"
   ]
  },
  {
   "cell_type": "code",
   "execution_count": 112,
   "metadata": {
    "scrolled": true
   },
   "outputs": [
    {
     "data": {
      "text/html": [
       "<div>\n",
       "<style scoped>\n",
       "    .dataframe tbody tr th:only-of-type {\n",
       "        vertical-align: middle;\n",
       "    }\n",
       "\n",
       "    .dataframe tbody tr th {\n",
       "        vertical-align: top;\n",
       "    }\n",
       "\n",
       "    .dataframe thead th {\n",
       "        text-align: right;\n",
       "    }\n",
       "</style>\n",
       "<table border=\"1\" class=\"dataframe\">\n",
       "  <thead>\n",
       "    <tr style=\"text-align: right;\">\n",
       "      <th></th>\n",
       "      <th>Brand</th>\n",
       "      <th>Price</th>\n",
       "      <th>Year</th>\n",
       "    </tr>\n",
       "  </thead>\n",
       "  <tbody>\n",
       "    <tr>\n",
       "      <th>0</th>\n",
       "      <td>Honda Civic</td>\n",
       "      <td>22000</td>\n",
       "      <td>2015</td>\n",
       "    </tr>\n",
       "    <tr>\n",
       "      <th>1</th>\n",
       "      <td>Toyota Corolla</td>\n",
       "      <td>25000</td>\n",
       "      <td>2013</td>\n",
       "    </tr>\n",
       "    <tr>\n",
       "      <th>2</th>\n",
       "      <td>Ford Focus</td>\n",
       "      <td>27000</td>\n",
       "      <td>2018</td>\n",
       "    </tr>\n",
       "    <tr>\n",
       "      <th>3</th>\n",
       "      <td>Audi A4</td>\n",
       "      <td>35000</td>\n",
       "      <td>2018</td>\n",
       "    </tr>\n",
       "  </tbody>\n",
       "</table>\n",
       "</div>"
      ],
      "text/plain": [
       "            Brand  Price  Year\n",
       "0     Honda Civic  22000  2015\n",
       "1  Toyota Corolla  25000  2013\n",
       "2      Ford Focus  27000  2018\n",
       "3         Audi A4  35000  2018"
      ]
     },
     "execution_count": 112,
     "metadata": {},
     "output_type": "execute_result"
    }
   ],
   "source": [
    "cars = {'Brand': ['Honda Civic', 'Toyota Corolla', 'Ford Focus', 'Audi A4'],\n",
    "        'Price': [22000, 25000, 27000, 35000],\n",
    "        'Year': [2015, 2013, 2018, 2018]\n",
    "        }\n",
    " \n",
    "df = pd.DataFrame(cars, columns= ['Brand', 'Price','Year'])\n",
    "\n",
    "df"
   ]
  },
  {
   "cell_type": "code",
   "execution_count": 128,
   "metadata": {
    "scrolled": false
   },
   "outputs": [
    {
     "data": {
      "application/vnd.jupyter.widget-view+json": {
       "model_id": "876de67be2b64b4cb51d7dab2a021b23",
       "version_major": 2,
       "version_minor": 0
      },
      "text/plain": [
       "Chart(layout=Layout(align_self='stretch', height='auto'))"
      ]
     },
     "metadata": {},
     "output_type": "display_data"
    }
   ],
   "source": [
    "mychart = chart.Chart(data=df, kind='line', x='Brand', y='Price')\n",
    "mychart"
   ]
  },
  {
   "cell_type": "code",
   "execution_count": null,
   "metadata": {},
   "outputs": [],
   "source": []
  }
 ],
 "metadata": {
  "kernelspec": {
   "display_name": "Python 3.8.1 64-bit ('mlenv': conda)",
   "language": "python",
   "name": "python38164bitmlenvcondade1e791990b84817946c0fe1bf1a20e7"
  },
  "language_info": {
   "codemirror_mode": {
    "name": "ipython",
    "version": 3
   },
   "file_extension": ".py",
   "mimetype": "text/x-python",
   "name": "python",
   "nbconvert_exporter": "python",
   "pygments_lexer": "ipython3",
   "version": "3.7.6"
  },
  "widgets": {
   "application/vnd.jupyter.widget-state+json": {
    "state": {
     "6735ad4dce524ec084f855e696081d05": {
      "model_module": "@jupyter-widgets/base",
      "model_module_version": "1.1.0",
      "model_name": "LayoutModel",
      "state": {
       "align_self": "stretch",
       "height": "auto"
      }
     },
     "8c0f60a4d9f14edcb9607ff9f7068ef7": {
      "model_module": "ipychart",
      "model_module_version": "^0.1.0",
      "model_name": "BarChartModel",
      "state": {
       "_model_data": [
        10,
        20,
        30,
        40,
        50
       ],
       "layout": "IPY_MODEL_6735ad4dce524ec084f855e696081d05"
      }
     },
     "954eac1df6084648bfafaee2b570bd88": {
      "model_module": "@jupyter-widgets/base",
      "model_module_version": "1.1.0",
      "model_name": "LayoutModel",
      "state": {
       "align_self": "stretch",
       "height": "auto"
      }
     },
     "98a277dcb92641d2b6a9d2e2a309e7b0": {
      "model_module": "ipychart",
      "model_module_version": "^0.1.0",
      "model_name": "BarChartModel",
      "state": {
       "_model_data": [
        10,
        20,
        30,
        40,
        50,
        80
       ],
       "layout": "IPY_MODEL_954eac1df6084648bfafaee2b570bd88"
      }
     }
    },
    "version_major": 2,
    "version_minor": 0
   }
  }
 },
 "nbformat": 4,
 "nbformat_minor": 2
}
